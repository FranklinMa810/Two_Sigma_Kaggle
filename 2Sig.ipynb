{
 "cells": [
  {
   "cell_type": "code",
   "execution_count": 1,
   "metadata": {
    "collapsed": true
   },
   "outputs": [],
   "source": [
    "import numpy as np \n",
    "import pandas as pd \n",
    "import matplotlib.pyplot as plt\n",
    "import seaborn as sns\n",
    "%matplotlib inline\n",
    "p = sns.color_palette()"
   ]
  },
  {
   "cell_type": "code",
   "execution_count": 3,
   "metadata": {
    "collapsed": false
   },
   "outputs": [],
   "source": [
    "with pd.HDFStore(\"C:/Kaggle/train/train.h5\", \"r\") as train:\n",
    "    df = train.get(\"train\")"
   ]
  },
  {
   "cell_type": "code",
   "execution_count": 9,
   "metadata": {
    "collapsed": false
   },
   "outputs": [
    {
     "data": {
      "text/html": [
       "<div>\n",
       "<table border=\"1\" class=\"dataframe\">\n",
       "  <thead>\n",
       "    <tr style=\"text-align: right;\">\n",
       "      <th></th>\n",
       "      <th>id</th>\n",
       "      <th>timestamp</th>\n",
       "      <th>derived_0</th>\n",
       "      <th>derived_1</th>\n",
       "      <th>derived_2</th>\n",
       "      <th>derived_3</th>\n",
       "      <th>derived_4</th>\n",
       "      <th>fundamental_0</th>\n",
       "      <th>fundamental_1</th>\n",
       "      <th>fundamental_2</th>\n",
       "      <th>...</th>\n",
       "      <th>technical_36</th>\n",
       "      <th>technical_37</th>\n",
       "      <th>technical_38</th>\n",
       "      <th>technical_39</th>\n",
       "      <th>technical_40</th>\n",
       "      <th>technical_41</th>\n",
       "      <th>technical_42</th>\n",
       "      <th>technical_43</th>\n",
       "      <th>technical_44</th>\n",
       "      <th>y</th>\n",
       "    </tr>\n",
       "  </thead>\n",
       "  <tbody>\n",
       "    <tr>\n",
       "      <th>0</th>\n",
       "      <td>10</td>\n",
       "      <td>0</td>\n",
       "      <td>0.370326</td>\n",
       "      <td>-0.006316</td>\n",
       "      <td>0.222831</td>\n",
       "      <td>-0.213030</td>\n",
       "      <td>0.729277</td>\n",
       "      <td>-0.335633</td>\n",
       "      <td>0.113292</td>\n",
       "      <td>1.621238</td>\n",
       "      <td>...</td>\n",
       "      <td>0.775208</td>\n",
       "      <td>NaN</td>\n",
       "      <td>NaN</td>\n",
       "      <td>NaN</td>\n",
       "      <td>-0.414776</td>\n",
       "      <td>NaN</td>\n",
       "      <td>NaN</td>\n",
       "      <td>-2</td>\n",
       "      <td>NaN</td>\n",
       "      <td>-0.011753</td>\n",
       "    </tr>\n",
       "    <tr>\n",
       "      <th>1</th>\n",
       "      <td>11</td>\n",
       "      <td>0</td>\n",
       "      <td>0.014765</td>\n",
       "      <td>-0.038064</td>\n",
       "      <td>-0.017425</td>\n",
       "      <td>0.320652</td>\n",
       "      <td>-0.034134</td>\n",
       "      <td>0.004413</td>\n",
       "      <td>0.114285</td>\n",
       "      <td>-0.210185</td>\n",
       "      <td>...</td>\n",
       "      <td>0.025590</td>\n",
       "      <td>NaN</td>\n",
       "      <td>NaN</td>\n",
       "      <td>NaN</td>\n",
       "      <td>-0.273607</td>\n",
       "      <td>NaN</td>\n",
       "      <td>NaN</td>\n",
       "      <td>-2</td>\n",
       "      <td>NaN</td>\n",
       "      <td>-0.001240</td>\n",
       "    </tr>\n",
       "    <tr>\n",
       "      <th>2</th>\n",
       "      <td>12</td>\n",
       "      <td>0</td>\n",
       "      <td>-0.010622</td>\n",
       "      <td>-0.050577</td>\n",
       "      <td>3.379575</td>\n",
       "      <td>-0.157525</td>\n",
       "      <td>-0.068550</td>\n",
       "      <td>-0.155937</td>\n",
       "      <td>1.219439</td>\n",
       "      <td>-0.764516</td>\n",
       "      <td>...</td>\n",
       "      <td>0.151881</td>\n",
       "      <td>NaN</td>\n",
       "      <td>NaN</td>\n",
       "      <td>NaN</td>\n",
       "      <td>-0.175710</td>\n",
       "      <td>NaN</td>\n",
       "      <td>NaN</td>\n",
       "      <td>-2</td>\n",
       "      <td>NaN</td>\n",
       "      <td>-0.020940</td>\n",
       "    </tr>\n",
       "    <tr>\n",
       "      <th>3</th>\n",
       "      <td>25</td>\n",
       "      <td>0</td>\n",
       "      <td>NaN</td>\n",
       "      <td>NaN</td>\n",
       "      <td>NaN</td>\n",
       "      <td>NaN</td>\n",
       "      <td>NaN</td>\n",
       "      <td>0.178495</td>\n",
       "      <td>NaN</td>\n",
       "      <td>-0.007262</td>\n",
       "      <td>...</td>\n",
       "      <td>1.035936</td>\n",
       "      <td>NaN</td>\n",
       "      <td>NaN</td>\n",
       "      <td>NaN</td>\n",
       "      <td>-0.211506</td>\n",
       "      <td>NaN</td>\n",
       "      <td>NaN</td>\n",
       "      <td>-2</td>\n",
       "      <td>NaN</td>\n",
       "      <td>-0.015959</td>\n",
       "    </tr>\n",
       "    <tr>\n",
       "      <th>4</th>\n",
       "      <td>26</td>\n",
       "      <td>0</td>\n",
       "      <td>0.176693</td>\n",
       "      <td>-0.025284</td>\n",
       "      <td>-0.057680</td>\n",
       "      <td>0.015100</td>\n",
       "      <td>0.180894</td>\n",
       "      <td>0.139445</td>\n",
       "      <td>-0.125687</td>\n",
       "      <td>-0.018707</td>\n",
       "      <td>...</td>\n",
       "      <td>0.630232</td>\n",
       "      <td>NaN</td>\n",
       "      <td>NaN</td>\n",
       "      <td>NaN</td>\n",
       "      <td>-0.001957</td>\n",
       "      <td>NaN</td>\n",
       "      <td>NaN</td>\n",
       "      <td>0</td>\n",
       "      <td>NaN</td>\n",
       "      <td>-0.007338</td>\n",
       "    </tr>\n",
       "  </tbody>\n",
       "</table>\n",
       "<p>5 rows × 111 columns</p>\n",
       "</div>"
      ],
      "text/plain": [
       "   id  timestamp  derived_0  derived_1  derived_2  derived_3  derived_4  \\\n",
       "0  10          0   0.370326  -0.006316   0.222831  -0.213030   0.729277   \n",
       "1  11          0   0.014765  -0.038064  -0.017425   0.320652  -0.034134   \n",
       "2  12          0  -0.010622  -0.050577   3.379575  -0.157525  -0.068550   \n",
       "3  25          0        NaN        NaN        NaN        NaN        NaN   \n",
       "4  26          0   0.176693  -0.025284  -0.057680   0.015100   0.180894   \n",
       "\n",
       "   fundamental_0  fundamental_1  fundamental_2    ...     technical_36  \\\n",
       "0      -0.335633       0.113292       1.621238    ...         0.775208   \n",
       "1       0.004413       0.114285      -0.210185    ...         0.025590   \n",
       "2      -0.155937       1.219439      -0.764516    ...         0.151881   \n",
       "3       0.178495            NaN      -0.007262    ...         1.035936   \n",
       "4       0.139445      -0.125687      -0.018707    ...         0.630232   \n",
       "\n",
       "   technical_37  technical_38  technical_39  technical_40  technical_41  \\\n",
       "0           NaN           NaN           NaN     -0.414776           NaN   \n",
       "1           NaN           NaN           NaN     -0.273607           NaN   \n",
       "2           NaN           NaN           NaN     -0.175710           NaN   \n",
       "3           NaN           NaN           NaN     -0.211506           NaN   \n",
       "4           NaN           NaN           NaN     -0.001957           NaN   \n",
       "\n",
       "   technical_42  technical_43  technical_44         y  \n",
       "0           NaN            -2           NaN -0.011753  \n",
       "1           NaN            -2           NaN -0.001240  \n",
       "2           NaN            -2           NaN -0.020940  \n",
       "3           NaN            -2           NaN -0.015959  \n",
       "4           NaN             0           NaN -0.007338  \n",
       "\n",
       "[5 rows x 111 columns]"
      ]
     },
     "execution_count": 9,
     "metadata": {},
     "output_type": "execute_result"
    }
   ],
   "source": [
    "df.head()"
   ]
  },
  {
   "cell_type": "code",
   "execution_count": 6,
   "metadata": {
    "collapsed": false
   },
   "outputs": [
    {
     "name": "stdout",
     "output_type": "stream",
     "text": [
      "Derived columns: 5, Fundamental columns: 63, Technical columns: 40\n",
      "\n",
      "Column dtypes:\n",
      "float32    109\n",
      "int16        2\n",
      "dtype: int64\n",
      "\n",
      "int16 columns:\n",
      "Index([u'id', u'timestamp'], dtype='object')\n"
     ]
    }
   ],
   "source": [
    "cols = [0, 0, 0]\n",
    "for c in df.columns:\n",
    "    if 'derived' in c: cols[0] += 1\n",
    "    if 'fundamental' in c: cols[1] += 1\n",
    "    if 'technical' in c: cols[2] += 1\n",
    "print('Derived columns: {}, Fundamental columns: {}, Technical columns: {}'.format(*cols))\n",
    "print('\\nColumn dtypes:')\n",
    "print(df.dtypes.value_counts())\n",
    "print('\\nint16 columns:')\n",
    "print(df.columns[df.dtypes == 'int16'])"
   ]
  },
  {
   "cell_type": "code",
   "execution_count": 14,
   "metadata": {
    "collapsed": false
   },
   "outputs": [
    {
     "name": "stdout",
     "output_type": "stream",
     "text": [
      "Target value min -0.086 max 0.093 mean 0.000 std 0.022\n"
     ]
    },
    {
     "data": {
      "image/png": "[encoded data removed]",
      "text/plain": [
       "<matplotlib.figure.Figure at 0xcf91320>"
      ]
     },
     "metadata": {},
     "output_type": "display_data"
    }
   ],
   "source": [
    "y = df['y'].values\n",
    "plt.hist(y, bins = 200)\n",
    "plt.xlabel('Target Value')\n",
    "plt.ylabel('Count')\n",
    "plt.title('Distribution of target value')\n",
    "print('Target value min {0:.3f} max {1:.3f} mean {2:.3f} std {3:.3f}'.format(np.min(y), np.max(y), np.mean(y), np.std(y)))\n",
    "plt.show()"
   ]
  },
  {
   "cell_type": "markdown",
   "metadata": {},
   "source": [
    "**The weired things is it very very symmetric and have so fatter tail on both sides!**"
   ]
  },
  {
   "cell_type": "code",
   "execution_count": null,
   "metadata": {
    "collapsed": true
   },
   "outputs": [],
   "source": []
  }
 ],
 "metadata": {
  "anaconda-cloud": {},
  "kernelspec": {
   "display_name": "Python 2",
   "language": "python",
   "name": "python2"
  },
  "language_info": {
   "codemirror_mode": {
    "name": "ipython",
    "version": 2
   },
   "file_extension": ".py",
   "mimetype": "text/x-python",
   "name": "python",
   "nbconvert_exporter": "python",
   "pygments_lexer": "ipython2",
   "version": "2.7.12"
  }
 },
 "nbformat": 4,
 "nbformat_minor": 0
}
